{
 "cells": [
  {
   "cell_type": "markdown",
   "metadata": {
    "slideshow": {
     "slide_type": "slide"
    }
   },
   "source": [
    "# My C notebook"
   ]
  },
  {
   "cell_type": "code",
   "execution_count": 1,
   "metadata": {
    "slideshow": {
     "slide_type": "subslide"
    }
   },
   "outputs": [
    {
     "name": "stderr",
     "output_type": "stream",
     "text": []
    },
    {
     "name": "stdout",
     "output_type": "stream",
     "text": [
      "Hello world\n"
     ]
    }
   ],
   "source": [
    "#include <stdio.h>\n",
    "\n",
    "int main() {\n",
    "    printf(\"Hello world\\n\");\n",
    "}"
   ]
  },
  {
   "cell_type": "markdown",
   "metadata": {
    "slideshow": {
     "slide_type": "slide"
    }
   },
   "source": [
    "# Triggering warning\n",
    "When we trigger a warning by removing the needed include we see the following"
   ]
  },
  {
   "cell_type": "code",
   "execution_count": 2,
   "metadata": {
    "slideshow": {
     "slide_type": "subslide"
    }
   },
   "outputs": [
    {
     "name": "stderr",
     "output_type": "stream",
     "text": [
      "/tmp/tmpehgve74i.c: In function ‘main’:\n",
      "/tmp/tmpehgve74i.c:2:5: warning: implicit declaration of function ‘printf’ [-Wimplicit-function-declaration]\n",
      "     printf(\"Hello world\\n\");\n",
      "     ^\n",
      "/tmp/tmpehgve74i.c:2:5: warning: incompatible implicit declaration of built-in function ‘printf’\n",
      "/tmp/tmpehgve74i.c:2:5: note: include ‘<stdio.h>’ or provide a declaration of ‘printf’\n"
     ]
    },
    {
     "name": "stdout",
     "output_type": "stream",
     "text": [
      "Hello world\n"
     ]
    }
   ],
   "source": [
    "int main() {\n",
    "    printf(\"Hello world\\n\");\n",
    "}"
   ]
  },
  {
   "cell_type": "markdown",
   "metadata": {
    "slideshow": {
     "slide_type": "slide"
    }
   },
   "source": [
    "# Triggering error\n",
    "When we trigger an error by removing a needed semicolon we see the following"
   ]
  },
  {
   "cell_type": "code",
   "execution_count": 3,
   "metadata": {
    "slideshow": {
     "slide_type": "subslide"
    }
   },
   "outputs": [
    {
     "name": "stderr",
     "output_type": "stream",
     "text": [
      "/tmp/tmpy43hek50.c: In function ‘main’:\n",
      "/tmp/tmpy43hek50.c:5:1: error: expected ‘;’ before ‘}’ token\n",
      " }\n",
      " ^\n",
      "[C kernel] GCC exited with code 1, the executable will not be executed"
     ]
    },
    {
     "name": "stdout",
     "output_type": "stream",
     "text": []
    }
   ],
   "source": [
    "#include <stdio.h>\n",
    "\n",
    "int main() {\n",
    "    printf(\"Hello world\\n\")\n",
    "}"
   ]
  }
 ],
 "metadata": {
  "celltoolbar": "Slideshow",
  "kernelspec": {
   "display_name": "C",
   "language": "c",
   "name": "c_spec"
  },
  "language_info": {
   "file_extension": "c",
   "mimetype": "text/plain",
   "name": "c"
  }
 },
 "nbformat": 4,
 "nbformat_minor": 2
}
